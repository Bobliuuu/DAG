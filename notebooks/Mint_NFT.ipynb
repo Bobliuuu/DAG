{
  "nbformat": 4,
  "nbformat_minor": 0,
  "metadata": {
    "colab": {
      "provenance": []
    },
    "kernelspec": {
      "name": "python3",
      "display_name": "Python 3"
    },
    "language_info": {
      "name": "python"
    }
  },
  "cells": [
    {
      "cell_type": "code",
      "execution_count": null,
      "metadata": {
        "id": "UjfXSGmtAIr2"
      },
      "outputs": [],
      "source": [
        "import requests\n",
        "\n",
        "CHAIN = \"goerli\"\n",
        "MURL = \"https://ipfs.io/ipfs/bafybeibpk3arsmriff2nmofhvx2don5rhhejbc6bwclcrz67ddn277zy2i\"\n",
        "ADDRESS = \"0x8a73596507BFd153114c2A9B890A03d72DDc0FFB\"\n",
        "API_KEY = \"REDACT\""
      ]
    },
    {
      "cell_type": "code",
      "source": [
        "import requests\n",
        "\n",
        "url = \"https://api.verbwire.com/v1/nft/mint/quickMintFromMetadataUrl\"\n",
        "\n",
        "payload = f\"-----011000010111000001101001\\r\\nContent-Disposition: form-data; name=\\\"allowPlatformToOperateToken\\\"\\r\\n\\r\\ntrue\\r\\n-----011000010111000001101001\\r\\nContent-Disposition: form-data; name=\\\"chain\\\"\\r\\n\\r\\n{CHAIN}\\r\\n-----011000010111000001101001\\r\\nContent-Disposition: form-data; name=\\\"metadataUrl\\\"\\r\\n\\r\\n{MURL}\\r\\n-----011000010111000001101001\\r\\nContent-Disposition: form-data; name=\\\"recipientAddress\\\"\\r\\n\\r\\n{ADDRESS}\\r\\n-----011000010111000001101001--\\r\\n\\r\\n\"\n",
        "headers = {\n",
        "    \"accept\": \"application/json\",\n",
        "    \"content-type\": \"multipart/form-data; boundary=---011000010111000001101001\",\n",
        "    \"X-API-Key\": API_KEY\n",
        "}\n",
        "\n",
        "response = requests.post(url, data=payload, headers=headers)\n",
        "\n",
        "print(response.text)"
      ],
      "metadata": {
        "id": "VXZm92-WAObM"
      },
      "execution_count": null,
      "outputs": []
    }
  ]
}